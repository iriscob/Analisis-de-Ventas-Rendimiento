{
  "nbformat": 4,
  "nbformat_minor": 0,
  "metadata": {
    "colab": {
      "provenance": [],
      "include_colab_link": true
    },
    "kernelspec": {
      "name": "python3",
      "display_name": "Python 3"
    },
    "language_info": {
      "name": "python"
    }
  },
  "cells": [
    {
      "cell_type": "markdown",
      "metadata": {
        "id": "view-in-github",
        "colab_type": "text"
      },
      "source": [
        "<a href=\"https://colab.research.google.com/github/iriscob/Analisis-de-Ventas-Rendimiento/blob/main/AluraStoreLatam.ipynb\" target=\"_parent\"><img src=\"https://colab.research.google.com/assets/colab-badge.svg\" alt=\"Open In Colab\"/></a>"
      ]
    },
    {
      "cell_type": "markdown",
      "source": [
        "### Importación de datos\n",
        "\n"
      ],
      "metadata": {
        "id": "RhEdWd9YUR6H"
      }
    },
    {
      "cell_type": "code",
      "execution_count": 15,
      "metadata": {
        "colab": {
          "base_uri": "https://localhost:8080/",
          "height": 108
        },
        "id": "T3EvaeQ_INIL",
        "outputId": "c5081981-560f-4506-8fe0-f4201594f09f"
      },
      "outputs": [
        {
          "output_type": "error",
          "ename": "IndentationError",
          "evalue": "unexpected indent (<ipython-input-15-afe9148d437d>, line 13)",
          "traceback": [
            "\u001b[0;36m  File \u001b[0;32m\"<ipython-input-15-afe9148d437d>\"\u001b[0;36m, line \u001b[0;32m13\u001b[0m\n\u001b[0;31m    tienda.head()\u001b[0m\n\u001b[0m    ^\u001b[0m\n\u001b[0;31mIndentationError\u001b[0m\u001b[0;31m:\u001b[0m unexpected indent\n"
          ]
        }
      ],
      "source": [
        "import pandas as pd\n",
        "\n",
        "url = \"https://raw.githubusercontent.com/alura-es-cursos/challenge1-data-science-latam/refs/heads/main/base-de-datos-challenge1-latam/tienda_1%20.csv\"\n",
        "url2 = \"https://raw.githubusercontent.com/alura-es-cursos/challenge1-data-science-latam/refs/heads/main/base-de-datos-challenge1-latam/tienda_2.csv\"\n",
        "url3 = \"https://raw.githubusercontent.com/alura-es-cursos/challenge1-data-science-latam/refs/heads/main/base-de-datos-challenge1-latam/tienda_3.csv\"\n",
        "url4 = \"https://raw.githubusercontent.com/alura-es-cursos/challenge1-data-science-latam/refs/heads/main/base-de-datos-challenge1-latam/tienda_4.csv\"\n",
        "\n",
        "tienda = pd.read_csv(url)\n",
        "tienda2 = pd.read_csv(url2)\n",
        "tienda3 = pd.read_csv(url3)\n",
        "tienda4 = pd.read_csv(url4)\n",
        "\n",
        " tienda.head()"
      ]
    },
    {
      "cell_type": "markdown",
      "source": [
        "#1. Análisis de facturación\n",
        "\n"
      ],
      "metadata": {
        "id": "X62IW3KFUIYm"
      }
    },
    {
      "cell_type": "code",
      "source": [
        "import pandas as pd\n",
        "\n",
        "urls = {\n",
        "    \"Tienda1\": \"https://raw.githubusercontent.com/alura-es-cursos/challenge1-data-science-latam/refs/heads/main/base-de-datos-challenge1-latam/tienda_1%20.csv\",\n",
        "    \"Tienda2\": \"https://raw.githubusercontent.com/alura-es-cursos/challenge1-data-science-latam/refs/heads/main/base-de-datos-challenge1-latam/tienda_2.csv\",\n",
        "    \"Tienda3\": \"https://raw.githubusercontent.com/alura-es-cursos/challenge1-data-science-latam/refs/heads/main/base-de-datos-challenge1-latam/tienda_3.csv\",\n",
        "    \"Tienda4\": \"https://raw.githubusercontent.com/alura-es-cursos/challenge1-data-science-latam/refs/heads/main/base-de-datos-challenge1-latam/tienda_4.csv\"\n",
        "}\n",
        "\n",
        "# Calcular y mostrar el ingreso total por tienda\n",
        "for nombre, url in urls.items():\n",
        "    df = pd.read_csv(url)\n",
        "    precio_total = df['Precio'].sum()  # Asume que la columna se llama exactamente \"Precio\"\n",
        "    print(f\"{nombre}: ${precio_total:,.2f}\")  # Formato con separadores de miles"
      ],
      "metadata": {
        "id": "xykobSftV64I",
        "colab": {
          "base_uri": "https://localhost:8080/"
        },
        "outputId": "2caabb67-0776-4747-bbfb-ad035f60766e"
      },
      "execution_count": 4,
      "outputs": [
        {
          "output_type": "stream",
          "name": "stdout",
          "text": [
            "Tienda1: $1,150,880,400.00\n",
            "Tienda2: $1,116,343,500.00\n",
            "Tienda3: $1,098,019,600.00\n",
            "Tienda4: $1,038,375,700.00\n"
          ]
        }
      ]
    },
    {
      "cell_type": "code",
      "source": [
        "print(f\"Tienda 1: ${tienda['Precio'].sum():,.2f}\")\n",
        "print(f\"Tienda 2: ${tienda2['Precio'].sum():,.2f}\")\n",
        "print(f\"Tienda 3: ${tienda3['Precio'].sum():,.2f}\")\n",
        "print(f\"Tienda 4: ${tienda4['Precio'].sum():,.2f}\")"
      ],
      "metadata": {
        "colab": {
          "base_uri": "https://localhost:8080/"
        },
        "id": "kr8wTnuW15X6",
        "outputId": "6d082915-82e4-4850-c382-e40d8507e884"
      },
      "execution_count": 9,
      "outputs": [
        {
          "output_type": "stream",
          "name": "stdout",
          "text": [
            "Tienda 1: $1,150,880,400.00\n",
            "Tienda 2: $1,116,343,500.00\n",
            "Tienda 3: $1,098,019,600.00\n",
            "Tienda 4: $1,038,375,700.00\n"
          ]
        }
      ]
    },
    {
      "cell_type": "code",
      "source": [
        "import pandas as pd\n",
        "\n",
        "# Cargar datos\n",
        "urls = {\n",
        "    \"Tienda1\": \"https://raw.githubusercontent.com/alura-es-cursos/challenge1-data-science-latam/refs/heads/main/base-de-datos-challenge1-latam/tienda_1%20.csv\",\n",
        "    \"Tienda2\": \"https://raw.githubusercontent.com/alura-es-cursos/challenge1-data-science-latam/refs/heads/main/base-de-datos-challenge1-latam/tienda_2.csv\",\n",
        "    \"Tienda3\": \"https://raw.githubusercontent.com/alura-es-cursos/challenge1-data-science-latam/refs/heads/main/base-de-datos-challenge1-latam/tienda_3.csv\",\n",
        "    \"Tienda4\": \"https://raw.githubusercontent.com/alura-es-cursos/challenge1-data-science-latam/refs/heads/main/base-de-datos-challenge1-latam/tienda_4.csv\"\n",
        "}\n",
        "\n",
        "# Análisis consolidado\n",
        "analisis = []\n",
        "for nombre, url in urls.items():\n",
        "    df = pd.read_csv(url)\n",
        "    ingresos_cop = df['Precio'].sum()\n",
        "    transacciones = len(df)\n",
        "    analisis.append([nombre, ingresos_cop, transacciones, ingresos_cop/transacciones])\n",
        "\n",
        "df_resultado = pd.DataFrame(analisis, columns=['Tienda', 'Ingreso COP', 'Transacciones', 'Ticket Promedio COP'])\n",
        "print(df_resultado.sort_values('Ingreso COP'))"
      ],
      "metadata": {
        "colab": {
          "base_uri": "https://localhost:8080/"
        },
        "id": "Tm0MVZY915Oi",
        "outputId": "fcc16f19-b4f4-4cbb-bed2-304503baf0f7"
      },
      "execution_count": 10,
      "outputs": [
        {
          "output_type": "stream",
          "name": "stdout",
          "text": [
            "    Tienda   Ingreso COP  Transacciones  Ticket Promedio COP\n",
            "3  Tienda4  1.038376e+09           2358        440362.892282\n",
            "2  Tienda3  1.098020e+09           2359        465459.771089\n",
            "1  Tienda2  1.116344e+09           2359        473227.426876\n",
            "0  Tienda1  1.150880e+09           2359        487867.910131\n"
          ]
        }
      ]
    },
    {
      "cell_type": "code",
      "source": [
        "import pandas as pd\n",
        "import matplotlib.pyplot as plt\n",
        "\n",
        "# URLs de los datos\n",
        "urls = {\n",
        "    \"Tienda1\": \"https://raw.githubusercontent.com/alura-es-cursos/challenge1-data-science-latam/refs/heads/main/base-de-datos-challenge1-latam/tienda_1%20.csv\",\n",
        "    \"Tienda2\": \"https://raw.githubusercontent.com/alura-es-cursos/challenge1-data-science-latam/refs/heads/main/base-de-datos-challenge1-latam/tienda_2.csv\",\n",
        "    \"Tienda3\": \"https://raw.githubusercontent.com/alura-es-cursos/challenge1-data-science-latam/refs/heads/main/base-de-datos-challenge1-latam/tienda_3.csv\",\n",
        "    \"Tienda4\": \"https://raw.githubusercontent.com/alura-es-cursos/challenge1-data-science-latam/refs/heads/main/base-de-datos-challenge1-latam/tienda_4.csv\"\n",
        "}\n",
        "\n",
        "# Calcular ingresos\n",
        "ingresos = {}\n",
        "for nombre, url in urls.items():\n",
        "    df = pd.read_csv(url)\n",
        "    ingresos[nombre] = df['Precio'].sum()\n",
        "\n",
        "# Crear gráfico\n",
        "plt.figure(figsize=(10, 6))\n",
        "bars = plt.bar(ingresos.keys(), ingresos.values(), color=['#4CAF50', '#2196F3', '#FFC107', '#FF5722'])\n",
        "\n",
        "# Personalizar\n",
        "plt.title('Ingresos Totales por Tienda ', fontsize=15, pad=20)\n",
        "plt.xlabel('Tienda', fontsize=12)\n",
        "plt.ylabel('Ingresos ', fontsize=12)\n",
        "plt.xticks(fontsize=10)\n",
        "plt.yticks(fontsize=10)\n",
        "plt.grid(axis='y', linestyle='--', alpha=0.7)\n",
        "\n",
        "# Añadir etiquetas con los valores en las barras\n",
        "for bar in bars:\n",
        "    height = bar.get_height()\n",
        "    plt.text(bar.get_x() + bar.get_width()/2., height,\n",
        "             f'${height:,.2f}',\n",
        "             ha='center', va='bottom', fontsize=10)\n",
        "\n",
        "# Mostrar\n",
        "plt.tight_layout()\n",
        "plt.show()"
      ],
      "metadata": {
        "colab": {
          "base_uri": "https://localhost:8080/",
          "height": 607
        },
        "id": "wEzznNCp15EX",
        "outputId": "ed3e5f6e-ac41-4b18-a18b-e355b9470a08"
      },
      "execution_count": 13,
      "outputs": [
        {
          "output_type": "display_data",
          "data": {
            "text/plain": [
              "<Figure size 1000x600 with 1 Axes>"
            ],
            "image/png": "[encoded data removed]"
          },
          "metadata": {}
        }
      ]
    },
    {
      "cell_type": "code",
      "source": [],
      "metadata": {
        "id": "o6739zAU143N"
      },
      "execution_count": null,
      "outputs": []
    },
    {
      "cell_type": "markdown",
      "source": [
        "# 2. Ventas por categoría"
      ],
      "metadata": {
        "id": "2V_vcAPzWZmR"
      }
    },
    {
      "cell_type": "code",
      "source": [],
      "metadata": {
        "id": "A34YupIuYhfF"
      },
      "execution_count": null,
      "outputs": []
    },
    {
      "cell_type": "code",
      "source": [],
      "metadata": {
        "id": "yZR6cOjXYSk1"
      },
      "execution_count": null,
      "outputs": []
    },
    {
      "cell_type": "markdown",
      "source": [
        "# 3. Calificación promedio de la tienda\n"
      ],
      "metadata": {
        "id": "Rq6tU_xSY3jk"
      }
    },
    {
      "cell_type": "code",
      "source": [],
      "metadata": {
        "id": "bh3jjjJwY5MU"
      },
      "execution_count": null,
      "outputs": []
    },
    {
      "cell_type": "code",
      "source": [],
      "metadata": {
        "id": "I0KkjPoTY88F"
      },
      "execution_count": null,
      "outputs": []
    },
    {
      "cell_type": "markdown",
      "source": [
        "# 4. Productos más y menos vendidos"
      ],
      "metadata": {
        "id": "DmNp1KPBZCm-"
      }
    },
    {
      "cell_type": "code",
      "source": [],
      "metadata": {
        "id": "qoyjqijQZHfF"
      },
      "execution_count": null,
      "outputs": []
    },
    {
      "cell_type": "code",
      "source": [],
      "metadata": {
        "id": "0Sw3sd4IZIGW"
      },
      "execution_count": null,
      "outputs": []
    },
    {
      "cell_type": "markdown",
      "source": [
        "# 5. Envío promedio por tienda"
      ],
      "metadata": {
        "id": "Fl0cGi3bZKqU"
      }
    },
    {
      "cell_type": "code",
      "source": [],
      "metadata": {
        "id": "S2JeaCykZNy9"
      },
      "execution_count": null,
      "outputs": []
    },
    {
      "cell_type": "code",
      "source": [],
      "metadata": {
        "id": "0tSdCie9ZQlt"
      },
      "execution_count": null,
      "outputs": []
    }
  ]
}